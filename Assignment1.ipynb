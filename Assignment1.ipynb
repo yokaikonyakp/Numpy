{
 "cells": [
  {
   "cell_type": "markdown",
   "id": "24f7a29f",
   "metadata": {},
   "source": [
    "# 1. Create a null vector of size 10 but the fifth value which is 1."
   ]
  },
  {
   "cell_type": "code",
   "execution_count": 2,
   "id": "ac30fece",
   "metadata": {},
   "outputs": [
    {
     "data": {
      "text/plain": [
       "array([0., 0., 0., 0., 1., 0., 0., 0., 0., 0.])"
      ]
     },
     "execution_count": 2,
     "metadata": {},
     "output_type": "execute_result"
    }
   ],
   "source": [
    "import numpy as np\n",
    "null = np.zeros(10)\n",
    "\n",
    "null[4] = 1\n",
    "null"
   ]
  },
  {
   "cell_type": "markdown",
   "id": "4fc7bcf0",
   "metadata": {},
   "source": [
    "### 2. Create a vector with values ranging from 10 to 49."
   ]
  },
  {
   "cell_type": "code",
   "execution_count": 3,
   "id": "c3ae004c",
   "metadata": {},
   "outputs": [
    {
     "data": {
      "text/plain": [
       "array([10, 11, 12, 13, 14, 15, 16, 17, 18, 19, 20, 21, 22, 23, 24, 25, 26,\n",
       "       27, 28, 29, 30, 31, 32, 33, 34, 35, 36, 37, 38, 39, 40, 41, 42, 43,\n",
       "       44, 45, 46, 47, 48, 49])"
      ]
     },
     "execution_count": 3,
     "metadata": {},
     "output_type": "execute_result"
    }
   ],
   "source": [
    "np.arange(10,50)"
   ]
  },
  {
   "cell_type": "markdown",
   "id": "9ba28496",
   "metadata": {},
   "source": [
    "### 3. Create a 3x3 matrix with values ranging from 0 to 8\n"
   ]
  },
  {
   "cell_type": "code",
   "execution_count": 4,
   "id": "0fd8e09b",
   "metadata": {},
   "outputs": [
    {
     "data": {
      "text/plain": [
       "array([[0, 1, 2],\n",
       "       [3, 4, 5],\n",
       "       [6, 7, 8]])"
      ]
     },
     "execution_count": 4,
     "metadata": {},
     "output_type": "execute_result"
    }
   ],
   "source": [
    "matrix = np.arange(0,9)\n",
    "matrix.reshape(3,3)"
   ]
  },
  {
   "cell_type": "markdown",
   "id": "849589e1",
   "metadata": {},
   "source": [
    "### 4. Find indices of non-zero elements from [1,2,0,0,4,0]\n"
   ]
  },
  {
   "cell_type": "code",
   "execution_count": 5,
   "id": "8e6beb31",
   "metadata": {},
   "outputs": [
    {
     "data": {
      "text/plain": [
       "(array([0, 1, 4], dtype=int64),)"
      ]
     },
     "execution_count": 5,
     "metadata": {},
     "output_type": "execute_result"
    }
   ],
   "source": [
    "array = np.array([1,2,0,0,4,0])\n",
    "np.nonzero(array)"
   ]
  },
  {
   "cell_type": "markdown",
   "id": "0f1672e8",
   "metadata": {},
   "source": [
    "### 5. Create a 10x10 array with random values and find the minimum and maximum values.\n"
   ]
  },
  {
   "cell_type": "code",
   "execution_count": 8,
   "id": "4e8c6d91",
   "metadata": {},
   "outputs": [
    {
     "name": "stdout",
     "output_type": "stream",
     "text": [
      "[[0.11398972 0.70369624 0.45707346 0.85172731 0.67108239 0.31981008\n",
      "  0.35663622 0.94178339 0.84422538 0.38338734]\n",
      " [0.58848156 0.79948396 0.78356569 0.09294451 0.8232534  0.17479251\n",
      "  0.14084744 0.8610505  0.46432406 0.28235898]\n",
      " [0.41143679 0.8564944  0.2414781  0.01156627 0.90740387 0.30186776\n",
      "  0.04643197 0.71925425 0.81125531 0.03311314]\n",
      " [0.07117481 0.90874987 0.46625602 0.07811615 0.57784808 0.34547656\n",
      "  0.71321226 0.11205157 0.03936585 0.16749203]\n",
      " [0.06511199 0.05862191 0.72233065 0.2350048  0.62128605 0.12081844\n",
      "  0.80921745 0.56692115 0.78575357 0.67062989]\n",
      " [0.58392863 0.98589746 0.89754389 0.96117527 0.24056652 0.70262613\n",
      "  0.66943895 0.53809294 0.33846765 0.57852884]\n",
      " [0.07286603 0.38100238 0.36188722 0.41349329 0.63498434 0.16506982\n",
      "  0.06385922 0.49908668 0.16109949 0.6098221 ]\n",
      " [0.70785765 0.97983408 0.18170033 0.10848492 0.46597065 0.51351263\n",
      "  0.33535483 0.28801233 0.18728508 0.07515769]\n",
      " [0.34528003 0.12934559 0.32323386 0.32665618 0.32984053 0.66134863\n",
      "  0.96588172 0.49130209 0.12922921 0.72513095]\n",
      " [0.6664883  0.71642264 0.21236549 0.97073436 0.84206759 0.2184424\n",
      "  0.01252576 0.0083596  0.61910164 0.07904356]]\n",
      "0.008359602434594549\n",
      "0.9858974577682452\n"
     ]
    }
   ],
   "source": [
    "array_10 = np.random.random((10,10))\n",
    "print(array_10)\n",
    "print(np.min(array_10))\n",
    "print(np.max(array_10))"
   ]
  },
  {
   "cell_type": "markdown",
   "id": "5ba4e088",
   "metadata": {},
   "source": [
    "### 6. Create a random vector of size 30 and find the mean value.\n"
   ]
  },
  {
   "cell_type": "code",
   "execution_count": 10,
   "id": "f1be8dac",
   "metadata": {},
   "outputs": [
    {
     "data": {
      "text/plain": [
       "0.6166439121373806"
      ]
     },
     "execution_count": 10,
     "metadata": {},
     "output_type": "execute_result"
    }
   ],
   "source": [
    "vector = np.random.random((5,6))\n",
    "np.mean(vector)                          "
   ]
  },
  {
   "cell_type": "code",
   "execution_count": null,
   "id": "04b218d3",
   "metadata": {},
   "outputs": [],
   "source": []
  }
 ],
 "metadata": {
  "kernelspec": {
   "display_name": "Python 3 (ipykernel)",
   "language": "python",
   "name": "python3"
  },
  "language_info": {
   "codemirror_mode": {
    "name": "ipython",
    "version": 3
   },
   "file_extension": ".py",
   "mimetype": "text/x-python",
   "name": "python",
   "nbconvert_exporter": "python",
   "pygments_lexer": "ipython3",
   "version": "3.11.2"
  }
 },
 "nbformat": 4,
 "nbformat_minor": 5
}
